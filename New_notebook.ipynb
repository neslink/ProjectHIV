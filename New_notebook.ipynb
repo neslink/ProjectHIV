{
 "cells": [
  {
   "cell_type": "code",
   "execution_count": 1,
   "id": "2db97b32",
   "metadata": {},
   "outputs": [],
   "source": [
    "import pandas as pd\n",
    "import matplotlib.pyplot as plt\n",
    "from sklearn.datasets import make_blobs, make_classification, make_moons\n",
    "from sklearn.preprocessing import StandardScaler\n",
    "from sklearn.model_selection import train_test_split\n",
    "# import tensorflow as tf\n",
    "from tensorflow.keras.models import Sequential\n",
    "from tensorflow.keras.layers import Dense"
   ]
  },
  {
   "cell_type": "code",
   "execution_count": 2,
   "id": "707b25f9",
   "metadata": {},
   "outputs": [
    {
     "data": {
      "text/html": [
       "<div>\n",
       "<style scoped>\n",
       "    .dataframe tbody tr th:only-of-type {\n",
       "        vertical-align: middle;\n",
       "    }\n",
       "\n",
       "    .dataframe tbody tr th {\n",
       "        vertical-align: top;\n",
       "    }\n",
       "\n",
       "    .dataframe thead th {\n",
       "        text-align: right;\n",
       "    }\n",
       "</style>\n",
       "<table border=\"1\" class=\"dataframe\">\n",
       "  <thead>\n",
       "    <tr style=\"text-align: right;\">\n",
       "      <th></th>\n",
       "      <th>Year</th>\n",
       "      <th>Borough</th>\n",
       "      <th>UHF</th>\n",
       "      <th>Gender</th>\n",
       "      <th>Age</th>\n",
       "      <th>Race</th>\n",
       "      <th>HIV diagnoses</th>\n",
       "      <th>HIV diagnosis rate</th>\n",
       "      <th>Concurrent diagnoses</th>\n",
       "      <th>% linked to care within 3 months</th>\n",
       "      <th>AIDS diagnoses</th>\n",
       "      <th>AIDS diagnosis rate</th>\n",
       "      <th>PLWDHI prevalence</th>\n",
       "      <th>% viral suppression</th>\n",
       "      <th>Deaths</th>\n",
       "      <th>Death rate</th>\n",
       "      <th>HIV-related death rate</th>\n",
       "      <th>Non-HIV-related death rate</th>\n",
       "    </tr>\n",
       "  </thead>\n",
       "  <tbody>\n",
       "    <tr>\n",
       "      <th>0</th>\n",
       "      <td>2011</td>\n",
       "      <td>All</td>\n",
       "      <td>All</td>\n",
       "      <td>All</td>\n",
       "      <td>All</td>\n",
       "      <td>All</td>\n",
       "      <td>3379.0</td>\n",
       "      <td>48.3</td>\n",
       "      <td>640.0</td>\n",
       "      <td>66.0</td>\n",
       "      <td>2366.0</td>\n",
       "      <td>33.8</td>\n",
       "      <td>1.1</td>\n",
       "      <td>71.0</td>\n",
       "      <td>2040</td>\n",
       "      <td>13.6</td>\n",
       "      <td>5.8</td>\n",
       "      <td>7.8</td>\n",
       "    </tr>\n",
       "    <tr>\n",
       "      <th>1</th>\n",
       "      <td>2011</td>\n",
       "      <td>All</td>\n",
       "      <td>All</td>\n",
       "      <td>Male</td>\n",
       "      <td>All</td>\n",
       "      <td>All</td>\n",
       "      <td>2595.0</td>\n",
       "      <td>79.1</td>\n",
       "      <td>480.0</td>\n",
       "      <td>66.0</td>\n",
       "      <td>1712.0</td>\n",
       "      <td>52.2</td>\n",
       "      <td>1.7</td>\n",
       "      <td>72.0</td>\n",
       "      <td>1423</td>\n",
       "      <td>13.4</td>\n",
       "      <td>5.7</td>\n",
       "      <td>7.7</td>\n",
       "    </tr>\n",
       "    <tr>\n",
       "      <th>2</th>\n",
       "      <td>2011</td>\n",
       "      <td>All</td>\n",
       "      <td>All</td>\n",
       "      <td>Female</td>\n",
       "      <td>All</td>\n",
       "      <td>All</td>\n",
       "      <td>733.0</td>\n",
       "      <td>21.1</td>\n",
       "      <td>153.0</td>\n",
       "      <td>66.0</td>\n",
       "      <td>622.0</td>\n",
       "      <td>17.6</td>\n",
       "      <td>0.6</td>\n",
       "      <td>68.0</td>\n",
       "      <td>605</td>\n",
       "      <td>14.0</td>\n",
       "      <td>6.0</td>\n",
       "      <td>8.0</td>\n",
       "    </tr>\n",
       "    <tr>\n",
       "      <th>3</th>\n",
       "      <td>2011</td>\n",
       "      <td>All</td>\n",
       "      <td>All</td>\n",
       "      <td>Transgender</td>\n",
       "      <td>All</td>\n",
       "      <td>All</td>\n",
       "      <td>51.0</td>\n",
       "      <td>99999.0</td>\n",
       "      <td>7.0</td>\n",
       "      <td>63.0</td>\n",
       "      <td>32.0</td>\n",
       "      <td>99999.0</td>\n",
       "      <td>99999.0</td>\n",
       "      <td>55.0</td>\n",
       "      <td>12</td>\n",
       "      <td>11.1</td>\n",
       "      <td>5.7</td>\n",
       "      <td>5.4</td>\n",
       "    </tr>\n",
       "    <tr>\n",
       "      <th>4</th>\n",
       "      <td>2011</td>\n",
       "      <td>All</td>\n",
       "      <td>All</td>\n",
       "      <td>Female</td>\n",
       "      <td>13 - 19</td>\n",
       "      <td>All</td>\n",
       "      <td>47.0</td>\n",
       "      <td>13.6</td>\n",
       "      <td>4.0</td>\n",
       "      <td>64.0</td>\n",
       "      <td>22.0</td>\n",
       "      <td>6.4</td>\n",
       "      <td>0.1</td>\n",
       "      <td>57.0</td>\n",
       "      <td>1</td>\n",
       "      <td>1.4</td>\n",
       "      <td>1.4</td>\n",
       "      <td>0.0</td>\n",
       "    </tr>\n",
       "  </tbody>\n",
       "</table>\n",
       "</div>"
      ],
      "text/plain": [
       "   Year Borough  UHF       Gender      Age Race  HIV diagnoses  \\\n",
       "0  2011     All  All          All      All  All         3379.0   \n",
       "1  2011     All  All         Male      All  All         2595.0   \n",
       "2  2011     All  All       Female      All  All          733.0   \n",
       "3  2011     All  All  Transgender      All  All           51.0   \n",
       "4  2011     All  All       Female  13 - 19  All           47.0   \n",
       "\n",
       "   HIV diagnosis rate  Concurrent diagnoses  % linked to care within 3 months  \\\n",
       "0                48.3                 640.0                              66.0   \n",
       "1                79.1                 480.0                              66.0   \n",
       "2                21.1                 153.0                              66.0   \n",
       "3             99999.0                   7.0                              63.0   \n",
       "4                13.6                   4.0                              64.0   \n",
       "\n",
       "   AIDS diagnoses  AIDS diagnosis rate  PLWDHI prevalence  \\\n",
       "0          2366.0                 33.8                1.1   \n",
       "1          1712.0                 52.2                1.7   \n",
       "2           622.0                 17.6                0.6   \n",
       "3            32.0              99999.0            99999.0   \n",
       "4            22.0                  6.4                0.1   \n",
       "\n",
       "   % viral suppression  Deaths  Death rate  HIV-related death rate  \\\n",
       "0                 71.0    2040        13.6                     5.8   \n",
       "1                 72.0    1423        13.4                     5.7   \n",
       "2                 68.0     605        14.0                     6.0   \n",
       "3                 55.0      12        11.1                     5.7   \n",
       "4                 57.0       1         1.4                     1.4   \n",
       "\n",
       "   Non-HIV-related death rate  \n",
       "0                         7.8  \n",
       "1                         7.7  \n",
       "2                         8.0  \n",
       "3                         5.4  \n",
       "4                         0.0  "
      ]
     },
     "execution_count": 2,
     "metadata": {},
     "output_type": "execute_result"
    }
   ],
   "source": [
    "# Load the dataset\n",
    "HIV_df = pd.read_csv(\"DOHMH_HIV_AIDS_Annual_Report (1).csv\")\n",
    "HIV_df.head()"
   ]
  },
  {
   "cell_type": "code",
   "execution_count": 18,
   "id": "cd1c7ce1",
   "metadata": {},
   "outputs": [
    {
     "data": {
      "text/plain": [
       "31925"
      ]
     },
     "execution_count": 18,
     "metadata": {},
     "output_type": "execute_result"
    }
   ],
   "source": [
    "length_of_df = len(HIV_df)\n",
    "length_of_df"
   ]
  },
  {
   "cell_type": "code",
   "execution_count": 19,
   "id": "c573c4a1",
   "metadata": {},
   "outputs": [
    {
     "data": {
      "image/png": "[encoded data removed]",
      "text/plain": [
       "<Figure size 640x480 with 2 Axes>"
      ]
     },
     "metadata": {},
     "output_type": "display_data"
    }
   ],
   "source": [
    "X,y = make_moons(n_samples=31925, noise = 0.8, random_state=1)\n",
    "y = y.reshape(-1,1)\n",
    "HIV_df['target'] = y\n",
    "\n",
    "HIV_df.plot.scatter(x=\"HIV diagnoses\", y=\"AIDS diagnoses\", c = \"target\", colormap='winter')\n",
    "plt.show()"
   ]
  },
  {
   "cell_type": "code",
   "execution_count": 20,
   "id": "7851595d",
   "metadata": {},
   "outputs": [],
   "source": [
    "X_train, X_test, y_train, y_test = train_test_split(X,y, random_state=1)"
   ]
  },
  {
   "cell_type": "code",
   "execution_count": 21,
   "id": "855c9d81",
   "metadata": {},
   "outputs": [],
   "source": [
    "stdscaler = StandardScaler()"
   ]
  },
  {
   "cell_type": "code",
   "execution_count": 22,
   "id": "90b93080",
   "metadata": {},
   "outputs": [
    {
     "data": {
      "text/html": [
       "<style>#sk-container-id-1 {color: black;}#sk-container-id-1 pre{padding: 0;}#sk-container-id-1 div.sk-toggleable {background-color: white;}#sk-container-id-1 label.sk-toggleable__label {cursor: pointer;display: block;width: 100%;margin-bottom: 0;padding: 0.3em;box-sizing: border-box;text-align: center;}#sk-container-id-1 label.sk-toggleable__label-arrow:before {content: \"▸\";float: left;margin-right: 0.25em;color: #696969;}#sk-container-id-1 label.sk-toggleable__label-arrow:hover:before {color: black;}#sk-container-id-1 div.sk-estimator:hover label.sk-toggleable__label-arrow:before {color: black;}#sk-container-id-1 div.sk-toggleable__content {max-height: 0;max-width: 0;overflow: hidden;text-align: left;background-color: #f0f8ff;}#sk-container-id-1 div.sk-toggleable__content pre {margin: 0.2em;color: black;border-radius: 0.25em;background-color: #f0f8ff;}#sk-container-id-1 input.sk-toggleable__control:checked~div.sk-toggleable__content {max-height: 200px;max-width: 100%;overflow: auto;}#sk-container-id-1 input.sk-toggleable__control:checked~label.sk-toggleable__label-arrow:before {content: \"▾\";}#sk-container-id-1 div.sk-estimator input.sk-toggleable__control:checked~label.sk-toggleable__label {background-color: #d4ebff;}#sk-container-id-1 div.sk-label input.sk-toggleable__control:checked~label.sk-toggleable__label {background-color: #d4ebff;}#sk-container-id-1 input.sk-hidden--visually {border: 0;clip: rect(1px 1px 1px 1px);clip: rect(1px, 1px, 1px, 1px);height: 1px;margin: -1px;overflow: hidden;padding: 0;position: absolute;width: 1px;}#sk-container-id-1 div.sk-estimator {font-family: monospace;background-color: #f0f8ff;border: 1px dotted black;border-radius: 0.25em;box-sizing: border-box;margin-bottom: 0.5em;}#sk-container-id-1 div.sk-estimator:hover {background-color: #d4ebff;}#sk-container-id-1 div.sk-parallel-item::after {content: \"\";width: 100%;border-bottom: 1px solid gray;flex-grow: 1;}#sk-container-id-1 div.sk-label:hover label.sk-toggleable__label {background-color: #d4ebff;}#sk-container-id-1 div.sk-serial::before {content: \"\";position: absolute;border-left: 1px solid gray;box-sizing: border-box;top: 0;bottom: 0;left: 50%;z-index: 0;}#sk-container-id-1 div.sk-serial {display: flex;flex-direction: column;align-items: center;background-color: white;padding-right: 0.2em;padding-left: 0.2em;position: relative;}#sk-container-id-1 div.sk-item {position: relative;z-index: 1;}#sk-container-id-1 div.sk-parallel {display: flex;align-items: stretch;justify-content: center;background-color: white;position: relative;}#sk-container-id-1 div.sk-item::before, #sk-container-id-1 div.sk-parallel-item::before {content: \"\";position: absolute;border-left: 1px solid gray;box-sizing: border-box;top: 0;bottom: 0;left: 50%;z-index: -1;}#sk-container-id-1 div.sk-parallel-item {display: flex;flex-direction: column;z-index: 1;position: relative;background-color: white;}#sk-container-id-1 div.sk-parallel-item:first-child::after {align-self: flex-end;width: 50%;}#sk-container-id-1 div.sk-parallel-item:last-child::after {align-self: flex-start;width: 50%;}#sk-container-id-1 div.sk-parallel-item:only-child::after {width: 0;}#sk-container-id-1 div.sk-dashed-wrapped {border: 1px dashed gray;margin: 0 0.4em 0.5em 0.4em;box-sizing: border-box;padding-bottom: 0.4em;background-color: white;}#sk-container-id-1 div.sk-label label {font-family: monospace;font-weight: bold;display: inline-block;line-height: 1.2em;}#sk-container-id-1 div.sk-label-container {text-align: center;}#sk-container-id-1 div.sk-container {/* jupyter's `normalize.less` sets `[hidden] { display: none; }` but bootstrap.min.css set `[hidden] { display: none !important; }` so we also need the `!important` here to be able to override the default hidden behavior on the sphinx rendered scikit-learn.org. See: https://github.com/scikit-learn/scikit-learn/issues/21755 */display: inline-block !important;position: relative;}#sk-container-id-1 div.sk-text-repr-fallback {display: none;}</style><div id=\"sk-container-id-1\" class=\"sk-top-container\"><div class=\"sk-text-repr-fallback\"><pre>StandardScaler()</pre><b>In a Jupyter environment, please rerun this cell to show the HTML representation or trust the notebook. <br />On GitHub, the HTML representation is unable to render, please try loading this page with nbviewer.org.</b></div><div class=\"sk-container\" hidden><div class=\"sk-item\"><div class=\"sk-estimator sk-toggleable\"><input class=\"sk-toggleable__control sk-hidden--visually\" id=\"sk-estimator-id-1\" type=\"checkbox\" checked><label for=\"sk-estimator-id-1\" class=\"sk-toggleable__label sk-toggleable__label-arrow\">StandardScaler</label><div class=\"sk-toggleable__content\"><pre>StandardScaler()</pre></div></div></div></div></div>"
      ],
      "text/plain": [
       "StandardScaler()"
      ]
     },
     "execution_count": 22,
     "metadata": {},
     "output_type": "execute_result"
    }
   ],
   "source": [
    "stdscaler.fit(X_train)"
   ]
  },
  {
   "cell_type": "code",
   "execution_count": 23,
   "id": "e4d9fb0e",
   "metadata": {},
   "outputs": [],
   "source": [
    "X_train_scaled = stdscaler.transform(X_train)\n",
    "X_test_scaled = stdscaler.transform(X_test)"
   ]
  },
  {
   "cell_type": "code",
   "execution_count": 24,
   "id": "18b362b9",
   "metadata": {},
   "outputs": [],
   "source": [
    "model_nn = Sequential()"
   ]
  },
  {
   "cell_type": "code",
   "execution_count": 25,
   "id": "df13c671",
   "metadata": {},
   "outputs": [],
   "source": [
    "number_of_neurons = 8\n",
    "input_dim = 2\n",
    "\n",
    "model_nn.add(Dense(units=number_of_neurons, activation = \"relu\", input_dim=input_dim))"
   ]
  },
  {
   "cell_type": "code",
   "execution_count": 26,
   "id": "ad902c08",
   "metadata": {},
   "outputs": [],
   "source": [
    "number_of_neurons_output = 1\n",
    "\n",
    "model_nn.add(Dense(units=number_of_neurons_output, activation = \"sigmoid\"))"
   ]
  },
  {
   "cell_type": "code",
   "execution_count": 27,
   "id": "cf57cba3",
   "metadata": {},
   "outputs": [],
   "source": [
    "model_nn.build(X_train.shape)"
   ]
  },
  {
   "cell_type": "code",
   "execution_count": 28,
   "id": "968f4319",
   "metadata": {},
   "outputs": [
    {
     "name": "stdout",
     "output_type": "stream",
     "text": [
      "Model: \"sequential\"\n",
      "_________________________________________________________________\n",
      " Layer (type)                Output Shape              Param #   \n",
      "=================================================================\n",
      " dense (Dense)               (None, 8)                 24        \n",
      "                                                                 \n",
      " dense_1 (Dense)             (None, 1)                 9         \n",
      "                                                                 \n",
      "=================================================================\n",
      "Total params: 33 (132.00 Byte)\n",
      "Trainable params: 33 (132.00 Byte)\n",
      "Non-trainable params: 0 (0.00 Byte)\n",
      "_________________________________________________________________\n"
     ]
    }
   ],
   "source": [
    "model_nn.summary()"
   ]
  },
  {
   "cell_type": "code",
   "execution_count": 29,
   "id": "8d3c553c",
   "metadata": {},
   "outputs": [],
   "source": [
    "model_nn.compile(loss = \"binary_crossentropy\", optimizer = \"adam\", metrics = [\"accuracy\"])"
   ]
  },
  {
   "cell_type": "code",
   "execution_count": 30,
   "id": "8465f143",
   "metadata": {},
   "outputs": [
    {
     "name": "stdout",
     "output_type": "stream",
     "text": [
      "Epoch 1/100\n",
      "749/749 [==============================] - 3s 3ms/step - loss: 0.5274 - accuracy: 0.7441\n",
      "Epoch 2/100\n",
      "749/749 [==============================] - 2s 2ms/step - loss: 0.5210 - accuracy: 0.7456\n",
      "Epoch 3/100\n",
      "749/749 [==============================] - 2s 2ms/step - loss: 0.5203 - accuracy: 0.7466\n",
      "Epoch 4/100\n",
      "749/749 [==============================] - 2s 2ms/step - loss: 0.5198 - accuracy: 0.7462\n",
      "Epoch 5/100\n",
      "749/749 [==============================] - 2s 2ms/step - loss: 0.5197 - accuracy: 0.7466\n",
      "Epoch 6/100\n",
      "749/749 [==============================] - 1s 2ms/step - loss: 0.5195 - accuracy: 0.7468\n",
      "Epoch 7/100\n",
      "749/749 [==============================] - 2s 2ms/step - loss: 0.5193 - accuracy: 0.7474\n",
      "Epoch 8/100\n",
      "749/749 [==============================] - 2s 3ms/step - loss: 0.5192 - accuracy: 0.7469\n",
      "Epoch 9/100\n",
      "749/749 [==============================] - 2s 2ms/step - loss: 0.5191 - accuracy: 0.7463\n",
      "Epoch 10/100\n",
      "749/749 [==============================] - 2s 2ms/step - loss: 0.5189 - accuracy: 0.7454\n",
      "Epoch 11/100\n",
      "749/749 [==============================] - 2s 3ms/step - loss: 0.5187 - accuracy: 0.7459\n",
      "Epoch 12/100\n",
      "749/749 [==============================] - 2s 3ms/step - loss: 0.5188 - accuracy: 0.7461\n",
      "Epoch 13/100\n",
      "749/749 [==============================] - 2s 3ms/step - loss: 0.5185 - accuracy: 0.7458\n",
      "Epoch 14/100\n",
      "749/749 [==============================] - 2s 3ms/step - loss: 0.5185 - accuracy: 0.7461\n",
      "Epoch 15/100\n",
      "749/749 [==============================] - 2s 3ms/step - loss: 0.5184 - accuracy: 0.7460\n",
      "Epoch 16/100\n",
      "749/749 [==============================] - 2s 3ms/step - loss: 0.5183 - accuracy: 0.7460\n",
      "Epoch 17/100\n",
      "749/749 [==============================] - 2s 3ms/step - loss: 0.5183 - accuracy: 0.7462\n",
      "Epoch 18/100\n",
      "749/749 [==============================] - 2s 3ms/step - loss: 0.5181 - accuracy: 0.7460\n",
      "Epoch 19/100\n",
      "749/749 [==============================] - 2s 3ms/step - loss: 0.5181 - accuracy: 0.7459\n",
      "Epoch 20/100\n",
      "749/749 [==============================] - 2s 3ms/step - loss: 0.5179 - accuracy: 0.7456\n",
      "Epoch 21/100\n",
      "749/749 [==============================] - 2s 3ms/step - loss: 0.5180 - accuracy: 0.7464\n",
      "Epoch 22/100\n",
      "749/749 [==============================] - 2s 3ms/step - loss: 0.5180 - accuracy: 0.7460\n",
      "Epoch 23/100\n",
      "749/749 [==============================] - 2s 3ms/step - loss: 0.5178 - accuracy: 0.7461\n",
      "Epoch 24/100\n",
      "749/749 [==============================] - 3s 3ms/step - loss: 0.5179 - accuracy: 0.7460\n",
      "Epoch 25/100\n",
      "749/749 [==============================] - 2s 3ms/step - loss: 0.5178 - accuracy: 0.7455\n",
      "Epoch 26/100\n",
      "749/749 [==============================] - 3s 3ms/step - loss: 0.5177 - accuracy: 0.7454\n",
      "Epoch 27/100\n",
      "749/749 [==============================] - 2s 3ms/step - loss: 0.5178 - accuracy: 0.7452\n",
      "Epoch 28/100\n",
      "749/749 [==============================] - 2s 3ms/step - loss: 0.5177 - accuracy: 0.7459\n",
      "Epoch 29/100\n",
      "749/749 [==============================] - 2s 3ms/step - loss: 0.5178 - accuracy: 0.7456\n",
      "Epoch 30/100\n",
      "749/749 [==============================] - 2s 3ms/step - loss: 0.5177 - accuracy: 0.7456\n",
      "Epoch 31/100\n",
      "749/749 [==============================] - 2s 3ms/step - loss: 0.5177 - accuracy: 0.7453\n",
      "Epoch 32/100\n",
      "749/749 [==============================] - 2s 3ms/step - loss: 0.5178 - accuracy: 0.7454\n",
      "Epoch 33/100\n",
      "749/749 [==============================] - 2s 3ms/step - loss: 0.5177 - accuracy: 0.7455\n",
      "Epoch 34/100\n",
      "749/749 [==============================] - 2s 3ms/step - loss: 0.5177 - accuracy: 0.7456\n",
      "Epoch 35/100\n",
      "749/749 [==============================] - 2s 3ms/step - loss: 0.5178 - accuracy: 0.7458\n",
      "Epoch 36/100\n",
      "749/749 [==============================] - 2s 3ms/step - loss: 0.5177 - accuracy: 0.7454\n",
      "Epoch 37/100\n",
      "749/749 [==============================] - 2s 3ms/step - loss: 0.5177 - accuracy: 0.7459\n",
      "Epoch 38/100\n",
      "749/749 [==============================] - 2s 3ms/step - loss: 0.5177 - accuracy: 0.7454\n",
      "Epoch 39/100\n",
      "749/749 [==============================] - 2s 3ms/step - loss: 0.5177 - accuracy: 0.7459\n",
      "Epoch 40/100\n",
      "749/749 [==============================] - 2s 3ms/step - loss: 0.5177 - accuracy: 0.7459\n",
      "Epoch 41/100\n",
      "749/749 [==============================] - 2s 3ms/step - loss: 0.5177 - accuracy: 0.7451\n",
      "Epoch 42/100\n",
      "749/749 [==============================] - 2s 3ms/step - loss: 0.5177 - accuracy: 0.7458\n",
      "Epoch 43/100\n",
      "749/749 [==============================] - 1s 2ms/step - loss: 0.5177 - accuracy: 0.7457\n",
      "Epoch 44/100\n",
      "749/749 [==============================] - 2s 2ms/step - loss: 0.5177 - accuracy: 0.7459\n",
      "Epoch 45/100\n",
      "749/749 [==============================] - 2s 3ms/step - loss: 0.5177 - accuracy: 0.7456\n",
      "Epoch 46/100\n",
      "749/749 [==============================] - 2s 3ms/step - loss: 0.5175 - accuracy: 0.7459\n",
      "Epoch 47/100\n",
      "749/749 [==============================] - 2s 3ms/step - loss: 0.5177 - accuracy: 0.7458\n",
      "Epoch 48/100\n",
      "749/749 [==============================] - 2s 3ms/step - loss: 0.5176 - accuracy: 0.7455\n",
      "Epoch 49/100\n",
      "749/749 [==============================] - 2s 2ms/step - loss: 0.5177 - accuracy: 0.7457\n",
      "Epoch 50/100\n",
      "749/749 [==============================] - 2s 3ms/step - loss: 0.5177 - accuracy: 0.7459\n",
      "Epoch 51/100\n",
      "749/749 [==============================] - 2s 3ms/step - loss: 0.5177 - accuracy: 0.7456\n",
      "Epoch 52/100\n",
      "749/749 [==============================] - 2s 3ms/step - loss: 0.5177 - accuracy: 0.7457\n",
      "Epoch 53/100\n",
      "749/749 [==============================] - 2s 3ms/step - loss: 0.5177 - accuracy: 0.7454\n",
      "Epoch 54/100\n",
      "749/749 [==============================] - 2s 3ms/step - loss: 0.5176 - accuracy: 0.7463\n",
      "Epoch 55/100\n",
      "749/749 [==============================] - 2s 3ms/step - loss: 0.5176 - accuracy: 0.7461\n",
      "Epoch 56/100\n",
      "749/749 [==============================] - 3s 3ms/step - loss: 0.5177 - accuracy: 0.7457\n",
      "Epoch 57/100\n",
      "749/749 [==============================] - 2s 3ms/step - loss: 0.5177 - accuracy: 0.7452\n",
      "Epoch 58/100\n",
      "749/749 [==============================] - 2s 3ms/step - loss: 0.5176 - accuracy: 0.7463\n",
      "Epoch 59/100\n",
      "749/749 [==============================] - 2s 3ms/step - loss: 0.5177 - accuracy: 0.7457\n",
      "Epoch 60/100\n",
      "749/749 [==============================] - 2s 3ms/step - loss: 0.5176 - accuracy: 0.7459\n",
      "Epoch 61/100\n",
      "749/749 [==============================] - 2s 3ms/step - loss: 0.5177 - accuracy: 0.7453\n",
      "Epoch 62/100\n",
      "749/749 [==============================] - 3s 4ms/step - loss: 0.5177 - accuracy: 0.7463\n",
      "Epoch 63/100\n",
      "749/749 [==============================] - 2s 3ms/step - loss: 0.5178 - accuracy: 0.7458\n",
      "Epoch 64/100\n",
      "749/749 [==============================] - 2s 3ms/step - loss: 0.5176 - accuracy: 0.7460\n",
      "Epoch 65/100\n",
      "749/749 [==============================] - 2s 3ms/step - loss: 0.5177 - accuracy: 0.7459\n",
      "Epoch 66/100\n",
      "749/749 [==============================] - 2s 3ms/step - loss: 0.5176 - accuracy: 0.7463\n",
      "Epoch 67/100\n",
      "749/749 [==============================] - 2s 3ms/step - loss: 0.5176 - accuracy: 0.7457\n",
      "Epoch 68/100\n",
      "749/749 [==============================] - 2s 3ms/step - loss: 0.5177 - accuracy: 0.7455\n",
      "Epoch 69/100\n",
      "749/749 [==============================] - 2s 3ms/step - loss: 0.5176 - accuracy: 0.7456\n",
      "Epoch 70/100\n",
      "749/749 [==============================] - 2s 3ms/step - loss: 0.5176 - accuracy: 0.7462\n",
      "Epoch 71/100\n",
      "749/749 [==============================] - 2s 3ms/step - loss: 0.5177 - accuracy: 0.7458\n",
      "Epoch 72/100\n",
      "749/749 [==============================] - 2s 3ms/step - loss: 0.5176 - accuracy: 0.7461\n",
      "Epoch 73/100\n",
      "749/749 [==============================] - 2s 2ms/step - loss: 0.5176 - accuracy: 0.7457\n",
      "Epoch 74/100\n",
      "749/749 [==============================] - 2s 3ms/step - loss: 0.5176 - accuracy: 0.7459\n",
      "Epoch 75/100\n",
      "749/749 [==============================] - 2s 2ms/step - loss: 0.5177 - accuracy: 0.7461\n",
      "Epoch 76/100\n",
      "749/749 [==============================] - 2s 3ms/step - loss: 0.5176 - accuracy: 0.7456\n",
      "Epoch 77/100\n",
      "749/749 [==============================] - 2s 3ms/step - loss: 0.5177 - accuracy: 0.7460\n",
      "Epoch 78/100\n",
      "749/749 [==============================] - 2s 3ms/step - loss: 0.5177 - accuracy: 0.7458\n",
      "Epoch 79/100\n",
      "749/749 [==============================] - 2s 3ms/step - loss: 0.5176 - accuracy: 0.7450\n",
      "Epoch 80/100\n",
      "749/749 [==============================] - 2s 3ms/step - loss: 0.5177 - accuracy: 0.7457\n",
      "Epoch 81/100\n"
     ]
    },
    {
     "name": "stdout",
     "output_type": "stream",
     "text": [
      "749/749 [==============================] - 2s 3ms/step - loss: 0.5176 - accuracy: 0.7461\n",
      "Epoch 82/100\n",
      "749/749 [==============================] - 2s 3ms/step - loss: 0.5176 - accuracy: 0.7459\n",
      "Epoch 83/100\n",
      "749/749 [==============================] - 2s 3ms/step - loss: 0.5176 - accuracy: 0.7461\n",
      "Epoch 84/100\n",
      "749/749 [==============================] - 2s 3ms/step - loss: 0.5176 - accuracy: 0.7464\n",
      "Epoch 85/100\n",
      "749/749 [==============================] - 2s 3ms/step - loss: 0.5176 - accuracy: 0.7462\n",
      "Epoch 86/100\n",
      "749/749 [==============================] - 2s 3ms/step - loss: 0.5176 - accuracy: 0.7454\n",
      "Epoch 87/100\n",
      "749/749 [==============================] - 2s 3ms/step - loss: 0.5176 - accuracy: 0.7464\n",
      "Epoch 88/100\n",
      "749/749 [==============================] - 2s 3ms/step - loss: 0.5177 - accuracy: 0.7458\n",
      "Epoch 89/100\n",
      "749/749 [==============================] - 2s 3ms/step - loss: 0.5176 - accuracy: 0.7461\n",
      "Epoch 90/100\n",
      "749/749 [==============================] - 2s 3ms/step - loss: 0.5176 - accuracy: 0.7459\n",
      "Epoch 91/100\n",
      "749/749 [==============================] - 2s 3ms/step - loss: 0.5177 - accuracy: 0.7455\n",
      "Epoch 92/100\n",
      "749/749 [==============================] - 2s 3ms/step - loss: 0.5177 - accuracy: 0.7459\n",
      "Epoch 93/100\n",
      "749/749 [==============================] - 2s 3ms/step - loss: 0.5176 - accuracy: 0.7459\n",
      "Epoch 94/100\n",
      "749/749 [==============================] - 2s 3ms/step - loss: 0.5176 - accuracy: 0.7460\n",
      "Epoch 95/100\n",
      "749/749 [==============================] - 2s 3ms/step - loss: 0.5177 - accuracy: 0.7455\n",
      "Epoch 96/100\n",
      "749/749 [==============================] - 2s 3ms/step - loss: 0.5176 - accuracy: 0.7456\n",
      "Epoch 97/100\n",
      "749/749 [==============================] - 2s 3ms/step - loss: 0.5176 - accuracy: 0.7458\n",
      "Epoch 98/100\n",
      "749/749 [==============================] - 2s 3ms/step - loss: 0.5177 - accuracy: 0.7457\n",
      "Epoch 99/100\n",
      "749/749 [==============================] - 2s 3ms/step - loss: 0.5176 - accuracy: 0.7457\n",
      "Epoch 100/100\n",
      "749/749 [==============================] - 2s 3ms/step - loss: 0.5175 - accuracy: 0.7462\n"
     ]
    }
   ],
   "source": [
    "model_nn_fitted = model_nn.fit(X_train_scaled, y_train , epochs = 100)"
   ]
  },
  {
   "cell_type": "code",
   "execution_count": 31,
   "id": "c6a157cf",
   "metadata": {},
   "outputs": [],
   "source": [
    "model_nn_fitted_df = pd.DataFrame(model_nn_fitted.history)"
   ]
  },
  {
   "cell_type": "code",
   "execution_count": 32,
   "id": "007d5a7a",
   "metadata": {},
   "outputs": [
    {
     "data": {
      "text/plain": [
       "<Axes: >"
      ]
     },
     "execution_count": 32,
     "metadata": {},
     "output_type": "execute_result"
    },
    {
     "data": {
      "image/png": "[encoded data removed]",
      "text/plain": [
       "<Figure size 640x480 with 1 Axes>"
      ]
     },
     "metadata": {},
     "output_type": "display_data"
    }
   ],
   "source": [
    "model_nn_fitted_df.index += 1\n",
    "\n",
    "model_nn_fitted_df.plot(y=\"loss\")"
   ]
  },
  {
   "cell_type": "code",
   "execution_count": 33,
   "id": "a48acde7",
   "metadata": {},
   "outputs": [
    {
     "data": {
      "text/plain": [
       "<Axes: >"
      ]
     },
     "execution_count": 33,
     "metadata": {},
     "output_type": "execute_result"
    },
    {
     "data": {
      "image/png": "[encoded data removed]",
      "text/plain": [
       "<Figure size 640x480 with 1 Axes>"
      ]
     },
     "metadata": {},
     "output_type": "display_data"
    }
   ],
   "source": [
    "model_nn_fitted_df.plot(y=\"accuracy\")"
   ]
  },
  {
   "cell_type": "code",
   "execution_count": 34,
   "id": "f7422574",
   "metadata": {},
   "outputs": [
    {
     "name": "stdout",
     "output_type": "stream",
     "text": [
      "250/250 - 1s - loss: 0.5222 - accuracy: 0.7405 - 760ms/epoch - 3ms/step\n"
     ]
    }
   ],
   "source": [
    "model_loss, model_accuracy = model_nn.evaluate(X_test_scaled, y_test, verbose = 2)"
   ]
  },
  {
   "cell_type": "code",
   "execution_count": 35,
   "id": "6810e966",
   "metadata": {},
   "outputs": [
    {
     "name": "stdout",
     "output_type": "stream",
     "text": [
      "loss: 0.522217333316803, accuracy: 0.7405412197113037\n"
     ]
    }
   ],
   "source": [
    "print(f\"loss: {model_loss}, accuracy: {model_accuracy}\")"
   ]
  },
  {
   "cell_type": "code",
   "execution_count": null,
   "id": "7bd047d6",
   "metadata": {},
   "outputs": [],
   "source": []
  }
 ],
 "metadata": {
  "kernelspec": {
   "display_name": "Python 3 (ipykernel)",
   "language": "python",
   "name": "python3"
  },
  "language_info": {
   "codemirror_mode": {
    "name": "ipython",
    "version": 3
   },
   "file_extension": ".py",
   "mimetype": "text/x-python",
   "name": "python",
   "nbconvert_exporter": "python",
   "pygments_lexer": "ipython3",
   "version": "3.8.18"
  }
 },
 "nbformat": 4,
 "nbformat_minor": 5
}
