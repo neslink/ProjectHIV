{
 "cells": [
  {
   "cell_type": "code",
   "execution_count": 32,
   "id": "d7ed0170",
   "metadata": {},
   "outputs": [
    {
     "name": "stdout",
     "output_type": "stream",
     "text": [
      " Volume in drive C is Windows\n",
      " Volume Serial Number is 5E94-16FB\n",
      "\n",
      " Directory of C:\\Users\\wnaiy\\OneDrive\\Desktop\\ProjectHIV\n",
      "\n",
      "12/04/2023  09:09 PM    <DIR>          .\n",
      "12/04/2023  09:09 PM    <DIR>          ..\n",
      "11/30/2023  08:51 PM             3,238 .gitignore\n",
      "12/04/2023  08:53 PM    <DIR>          .ipynb_checkpoints\n",
      "12/04/2023  09:08 PM         2,777,451 DOHMH_HIV_AIDS_Annual_Report (1).csv\n",
      "12/04/2023  08:56 PM            33,370 Health_and_Human_Services_Facilities_List (1).csv\n",
      "12/04/2023  09:07 PM            13,779 HIV_Project.ipynb\n",
      "12/04/2023  08:50 PM    <DIR>          HIVcsv\n",
      "11/30/2023  08:51 PM             1,093 LICENSE\n",
      "12/04/2023  08:50 PM             3,378 README.md\n",
      "               6 File(s)      2,832,309 bytes\n",
      "               4 Dir(s)  370,988,740,608 bytes free\n"
     ]
    }
   ],
   "source": [
    "ls"
   ]
  },
  {
   "cell_type": "code",
   "execution_count": 12,
   "id": "e0244d9f",
   "metadata": {},
   "outputs": [],
   "source": [
    "# Import our dependencies\n",
    "from sklearn.model_selection import train_test_split\n",
    "from sklearn.preprocessing import StandardScaler\n",
    "import pandas as pd\n",
    "import tensorflow as tf\n",
    "import pandas as pd "
   ]
  },
  {
   "cell_type": "code",
   "execution_count": 33,
   "id": "d3b46e90",
   "metadata": {},
   "outputs": [
    {
     "data": {
      "text/html": [
       "<div>\n",
       "<style scoped>\n",
       "    .dataframe tbody tr th:only-of-type {\n",
       "        vertical-align: middle;\n",
       "    }\n",
       "\n",
       "    .dataframe tbody tr th {\n",
       "        vertical-align: top;\n",
       "    }\n",
       "\n",
       "    .dataframe thead th {\n",
       "        text-align: right;\n",
       "    }\n",
       "</style>\n",
       "<table border=\"1\" class=\"dataframe\">\n",
       "  <thead>\n",
       "    <tr style=\"text-align: right;\">\n",
       "      <th></th>\n",
       "      <th>Year</th>\n",
       "      <th>Borough</th>\n",
       "      <th>UHF</th>\n",
       "      <th>Gender</th>\n",
       "      <th>Age</th>\n",
       "      <th>Race</th>\n",
       "      <th>HIV diagnoses</th>\n",
       "      <th>HIV diagnosis rate</th>\n",
       "      <th>Concurrent diagnoses</th>\n",
       "      <th>% linked to care within 3 months</th>\n",
       "      <th>AIDS diagnoses</th>\n",
       "      <th>AIDS diagnosis rate</th>\n",
       "      <th>PLWDHI prevalence</th>\n",
       "      <th>% viral suppression</th>\n",
       "      <th>Deaths</th>\n",
       "      <th>Death rate</th>\n",
       "      <th>HIV-related death rate</th>\n",
       "      <th>Non-HIV-related death rate</th>\n",
       "    </tr>\n",
       "  </thead>\n",
       "  <tbody>\n",
       "    <tr>\n",
       "      <th>0</th>\n",
       "      <td>2011</td>\n",
       "      <td>All</td>\n",
       "      <td>All</td>\n",
       "      <td>All</td>\n",
       "      <td>All</td>\n",
       "      <td>All</td>\n",
       "      <td>3379.0</td>\n",
       "      <td>48.3</td>\n",
       "      <td>640.0</td>\n",
       "      <td>66.0</td>\n",
       "      <td>2366.0</td>\n",
       "      <td>33.8</td>\n",
       "      <td>1.1</td>\n",
       "      <td>71.0</td>\n",
       "      <td>2040</td>\n",
       "      <td>13.6</td>\n",
       "      <td>5.8</td>\n",
       "      <td>7.8</td>\n",
       "    </tr>\n",
       "    <tr>\n",
       "      <th>1</th>\n",
       "      <td>2011</td>\n",
       "      <td>All</td>\n",
       "      <td>All</td>\n",
       "      <td>Male</td>\n",
       "      <td>All</td>\n",
       "      <td>All</td>\n",
       "      <td>2595.0</td>\n",
       "      <td>79.1</td>\n",
       "      <td>480.0</td>\n",
       "      <td>66.0</td>\n",
       "      <td>1712.0</td>\n",
       "      <td>52.2</td>\n",
       "      <td>1.7</td>\n",
       "      <td>72.0</td>\n",
       "      <td>1423</td>\n",
       "      <td>13.4</td>\n",
       "      <td>5.7</td>\n",
       "      <td>7.7</td>\n",
       "    </tr>\n",
       "    <tr>\n",
       "      <th>2</th>\n",
       "      <td>2011</td>\n",
       "      <td>All</td>\n",
       "      <td>All</td>\n",
       "      <td>Female</td>\n",
       "      <td>All</td>\n",
       "      <td>All</td>\n",
       "      <td>733.0</td>\n",
       "      <td>21.1</td>\n",
       "      <td>153.0</td>\n",
       "      <td>66.0</td>\n",
       "      <td>622.0</td>\n",
       "      <td>17.6</td>\n",
       "      <td>0.6</td>\n",
       "      <td>68.0</td>\n",
       "      <td>605</td>\n",
       "      <td>14.0</td>\n",
       "      <td>6.0</td>\n",
       "      <td>8.0</td>\n",
       "    </tr>\n",
       "    <tr>\n",
       "      <th>3</th>\n",
       "      <td>2011</td>\n",
       "      <td>All</td>\n",
       "      <td>All</td>\n",
       "      <td>Transgender</td>\n",
       "      <td>All</td>\n",
       "      <td>All</td>\n",
       "      <td>51.0</td>\n",
       "      <td>99999.0</td>\n",
       "      <td>7.0</td>\n",
       "      <td>63.0</td>\n",
       "      <td>32.0</td>\n",
       "      <td>99999.0</td>\n",
       "      <td>99999.0</td>\n",
       "      <td>55.0</td>\n",
       "      <td>12</td>\n",
       "      <td>11.1</td>\n",
       "      <td>5.7</td>\n",
       "      <td>5.4</td>\n",
       "    </tr>\n",
       "    <tr>\n",
       "      <th>4</th>\n",
       "      <td>2011</td>\n",
       "      <td>All</td>\n",
       "      <td>All</td>\n",
       "      <td>Female</td>\n",
       "      <td>13 - 19</td>\n",
       "      <td>All</td>\n",
       "      <td>47.0</td>\n",
       "      <td>13.6</td>\n",
       "      <td>4.0</td>\n",
       "      <td>64.0</td>\n",
       "      <td>22.0</td>\n",
       "      <td>6.4</td>\n",
       "      <td>0.1</td>\n",
       "      <td>57.0</td>\n",
       "      <td>1</td>\n",
       "      <td>1.4</td>\n",
       "      <td>1.4</td>\n",
       "      <td>0.0</td>\n",
       "    </tr>\n",
       "  </tbody>\n",
       "</table>\n",
       "</div>"
      ],
      "text/plain": [
       "   Year Borough  UHF       Gender      Age Race  HIV diagnoses  \\\n",
       "0  2011     All  All          All      All  All         3379.0   \n",
       "1  2011     All  All         Male      All  All         2595.0   \n",
       "2  2011     All  All       Female      All  All          733.0   \n",
       "3  2011     All  All  Transgender      All  All           51.0   \n",
       "4  2011     All  All       Female  13 - 19  All           47.0   \n",
       "\n",
       "   HIV diagnosis rate  Concurrent diagnoses  % linked to care within 3 months  \\\n",
       "0                48.3                 640.0                              66.0   \n",
       "1                79.1                 480.0                              66.0   \n",
       "2                21.1                 153.0                              66.0   \n",
       "3             99999.0                   7.0                              63.0   \n",
       "4                13.6                   4.0                              64.0   \n",
       "\n",
       "   AIDS diagnoses  AIDS diagnosis rate  PLWDHI prevalence  \\\n",
       "0          2366.0                 33.8                1.1   \n",
       "1          1712.0                 52.2                1.7   \n",
       "2           622.0                 17.6                0.6   \n",
       "3            32.0              99999.0            99999.0   \n",
       "4            22.0                  6.4                0.1   \n",
       "\n",
       "   % viral suppression  Deaths  Death rate  HIV-related death rate  \\\n",
       "0                 71.0    2040        13.6                     5.8   \n",
       "1                 72.0    1423        13.4                     5.7   \n",
       "2                 68.0     605        14.0                     6.0   \n",
       "3                 55.0      12        11.1                     5.7   \n",
       "4                 57.0       1         1.4                     1.4   \n",
       "\n",
       "   Non-HIV-related death rate  \n",
       "0                         7.8  \n",
       "1                         7.7  \n",
       "2                         8.0  \n",
       "3                         5.4  \n",
       "4                         0.0  "
      ]
     },
     "execution_count": 33,
     "metadata": {},
     "output_type": "execute_result"
    }
   ],
   "source": [
    "HIV_df = pd.read_csv(\"DOHMH_HIV_AIDS_Annual_Report (1).csv\")\n",
    "HIV_df.head()"
   ]
  },
  {
   "cell_type": "code",
   "execution_count": 35,
   "id": "c92e8083",
   "metadata": {},
   "outputs": [
    {
     "data": {
      "text/plain": [
       "Index(['Year', 'Borough', 'UHF', 'Gender', 'Age', 'Race', 'HIV diagnoses',\n",
       "       'HIV diagnosis rate', 'Concurrent diagnoses',\n",
       "       '% linked to care within 3 months', 'AIDS diagnoses',\n",
       "       'AIDS diagnosis rate', 'PLWDHI prevalence', '% viral suppression',\n",
       "       'Deaths', 'Death rate', 'HIV-related death rate',\n",
       "       'Non-HIV-related death rate'],\n",
       "      dtype='object')"
      ]
     },
     "execution_count": 35,
     "metadata": {},
     "output_type": "execute_result"
    }
   ],
   "source": [
    "HIV_df.columns"
   ]
  },
  {
   "cell_type": "code",
   "execution_count": 36,
   "id": "adf60266",
   "metadata": {},
   "outputs": [
    {
     "name": "stdout",
     "output_type": "stream",
     "text": [
      "Year                                    0\n",
      "Borough                                 0\n",
      "UHF                                     0\n",
      "Gender                                  0\n",
      "Age                                     0\n",
      "Race                                    0\n",
      "HIV diagnoses                         416\n",
      "HIV diagnosis rate                    416\n",
      "Concurrent diagnoses                  116\n",
      "% linked to care within 3 months    13274\n",
      "AIDS diagnoses                        337\n",
      "AIDS diagnosis rate                   337\n",
      "PLWDHI prevalence                    3553\n",
      "% viral suppression                  1913\n",
      "Deaths                                  0\n",
      "Death rate                           1913\n",
      "HIV-related death rate               1913\n",
      "Non-HIV-related death rate           1913\n",
      "dtype: int64\n"
     ]
    }
   ],
   "source": [
    "# Check for missing values\n",
    "print(HIV_df.isnull().sum())"
   ]
  },
  {
   "cell_type": "code",
   "execution_count": 39,
   "id": "f66649aa",
   "metadata": {},
   "outputs": [],
   "source": [
    "# Impute missing values with the mean\n",
    "HIV_df['HIV diagnoses'].fillna(HIV_df['HIV diagnoses'].mean(), inplace=True)\n",
    "HIV_df['Concurrent diagnoses'].fillna(HIV_df['Concurrent diagnoses'].mean(), inplace=True)\n",
    "HIV_df['Gender'].fillna(HIV_df['Gender'].mode()[0], inplace=True)"
   ]
  },
  {
   "cell_type": "code",
   "execution_count": 40,
   "id": "e418ef55",
   "metadata": {},
   "outputs": [],
   "source": [
    "# Drop rows with missing values\n",
    "HIV_df.dropna(axis=0, inplace=True)\n",
    "\n",
    "# Drop columns with missing values\n",
    "HIV_df.dropna(axis=1, inplace=True)\n"
   ]
  },
  {
   "cell_type": "code",
   "execution_count": 42,
   "id": "15461572",
   "metadata": {},
   "outputs": [
    {
     "data": {
      "text/plain": [
       "Year                                  10\n",
       "Borough                                6\n",
       "UHF                                   43\n",
       "Gender                                 6\n",
       "Age                                    8\n",
       "Race                                   7\n",
       "HIV diagnoses                        409\n",
       "HIV diagnosis rate                  1953\n",
       "Concurrent diagnoses                 157\n",
       "% linked to care within 3 months     125\n",
       "AIDS diagnoses                       313\n",
       "AIDS diagnosis rate                 1423\n",
       "PLWDHI prevalence                    149\n",
       "% viral suppression                  159\n",
       "Deaths                               374\n",
       "Death rate                           608\n",
       "HIV-related death rate               347\n",
       "Non-HIV-related death rate           448\n",
       "dtype: int64"
      ]
     },
     "execution_count": 42,
     "metadata": {},
     "output_type": "execute_result"
    }
   ],
   "source": [
    "# Determine the number of unique values in each column.\n",
    "HIV_df.nunique()"
   ]
  },
  {
   "cell_type": "code",
   "execution_count": 57,
   "id": "6cd55dda",
   "metadata": {},
   "outputs": [
    {
     "name": "stdout",
     "output_type": "stream",
     "text": [
      "Year                                  int64\n",
      "Borough                              object\n",
      "UHF                                  object\n",
      "Gender                               object\n",
      "Age                                  object\n",
      "Race                                 object\n",
      "HIV diagnoses                       float64\n",
      "HIV diagnosis rate                  float64\n",
      "Concurrent diagnoses                float64\n",
      "% linked to care within 3 months    float64\n",
      "AIDS diagnoses                      float64\n",
      "AIDS diagnosis rate                 float64\n",
      "PLWDHI prevalence                   float64\n",
      "% viral suppression                 float64\n",
      "Deaths                                int64\n",
      "Death rate                          float64\n",
      "HIV-related death rate              float64\n",
      "Non-HIV-related death rate          float64\n",
      "dtype: object\n"
     ]
    }
   ],
   "source": [
    "print(HIV_df.dtypes)"
   ]
  },
  {
   "cell_type": "code",
   "execution_count": 76,
   "id": "ce265159",
   "metadata": {},
   "outputs": [
    {
     "data": {
      "text/plain": [
       "Index(['Year', 'HIV diagnoses', 'HIV diagnosis rate', 'Concurrent diagnoses',\n",
       "       '% linked to care within 3 months', 'AIDS diagnoses',\n",
       "       'AIDS diagnosis rate', 'PLWDHI prevalence', '% viral suppression',\n",
       "       'Deaths', 'Death rate', 'HIV-related death rate',\n",
       "       'Non-HIV-related death rate', 'Borough_Bronx', 'Borough_Brooklyn',\n",
       "       'Borough_Manhattan', 'Borough_Queens', 'Borough_Staten Island',\n",
       "       'UHF_Bayside - Little Neck', 'UHF_Bedford Stuyvesant - Crown Heights',\n",
       "       'UHF_Bensonhurst - Bay Ridge', 'UHF_Borough Park',\n",
       "       'UHF_Canarsie - Flatlands', 'UHF_Central Harlem - Morningside Heights',\n",
       "       'UHF_Chelsea - Clinton', 'UHF_Coney Island - Sheepshead Bay',\n",
       "       'UHF_Crotona - Tremont', 'UHF_Downtown - Heights - Park Slope',\n",
       "       'UHF_East Flatbush - Flatbush', 'UHF_East Harlem', 'UHF_East New York',\n",
       "       'UHF_Flushing - Clearview', 'UHF_Fordham - Bronx Park',\n",
       "       'UHF_Fresh Meadows', 'UHF_Gramercy Park - Murray Hill',\n",
       "       'UHF_Greenpoint', 'UHF_Greenwich Village - Soho',\n",
       "       'UHF_High Bridge - Morrisania', 'UHF_Hunts Point - Mott Haven',\n",
       "       'UHF_Jamaica', 'UHF_Kingsbridge - Riverdale',\n",
       "       'UHF_Long Island City - Astoria', 'UHF_Lower Manhattan',\n",
       "       'UHF_Northeast Bronx', 'UHF_Pelham - Throgs Neck', 'UHF_Port Richmond',\n",
       "       'UHF_Ridgewood - Forest Hills', 'UHF_Rockaway',\n",
       "       'UHF_South Beach - Tottenville', 'UHF_Southeast Queens',\n",
       "       'UHF_Southwest Queens', 'UHF_Stapleton - St. George', 'UHF_Sunset Park',\n",
       "       'UHF_Union Square - Lower East Side', 'UHF_Upper East Side',\n",
       "       'UHF_Upper West Side', 'UHF_Washington Heights - Inwood',\n",
       "       'UHF_West Queens', 'UHF_Williamsburg - Bushwick', 'UHF_Willowbrook',\n",
       "       'Gender_Female', 'Gender_Male', 'Gender_Men', 'Gender_Transgender',\n",
       "       'Gender_Women', 'Age_18 - 29', 'Age_20 - 29', 'Age_30 - 39',\n",
       "       'Age_40 - 49', 'Age_50 - 59', 'Age_60+', 'Age_All',\n",
       "       'Race_Asian/Pacific Islander', 'Race_Black', 'Race_Latino/Hispanic',\n",
       "       'Race_Latinx/Hispanic', 'Race_Other/Unknown', 'Race_White'],\n",
       "      dtype='object')"
      ]
     },
     "execution_count": 76,
     "metadata": {},
     "output_type": "execute_result"
    }
   ],
   "source": [
    "HIV_df.columns"
   ]
  },
  {
   "cell_type": "code",
   "execution_count": 63,
   "id": "092ceed2",
   "metadata": {},
   "outputs": [],
   "source": [
    "HIV_df.fillna(HIV_df.mean(), inplace=True)  "
   ]
  },
  {
   "cell_type": "code",
   "execution_count": 64,
   "id": "57457a3a",
   "metadata": {},
   "outputs": [],
   "source": [
    "# Initialize the scaler\n",
    "scaler = StandardScaler()\n",
    "\n",
    "# Scale numerical features\n",
    "numerical_columns = ['HIV diagnoses', 'Concurrent diagnoses', '% linked to care within 3 months']\n",
    "HIV_df[numerical_columns] = scaler.fit_transform(HIV_df[numerical_columns])"
   ]
  },
  {
   "cell_type": "code",
   "execution_count": 65,
   "id": "5762ac91",
   "metadata": {},
   "outputs": [],
   "source": [
    "# Assuming 'HIV diagnoses' is your target column\n",
    "X = HIV_df.drop('HIV diagnoses', axis=1)\n",
    "y = HIV_df['HIV diagnoses']"
   ]
  },
  {
   "cell_type": "code",
   "execution_count": 66,
   "id": "16ab1343",
   "metadata": {},
   "outputs": [],
   "source": [
    "X_train, X_test, y_train, y_test = train_test_split(X, y, test_size=0.2, random_state=42)"
   ]
  },
  {
   "cell_type": "code",
   "execution_count": 70,
   "id": "d3f61f41",
   "metadata": {},
   "outputs": [],
   "source": [
    "# Create a StandardScaler instances\n",
    "scaler = StandardScaler()\n",
    "\n",
    "# Fit the StandardScaler\n",
    "X_scaler = scaler.fit(X_train)\n",
    "\n",
    "# Scale the data\n",
    "X_train_scaled = X_scaler.transform(X_train)\n",
    "X_test_scaled = X_scaler.transform(X_test)"
   ]
  },
  {
   "cell_type": "code",
   "execution_count": 71,
   "id": "1c5f42a7",
   "metadata": {},
   "outputs": [
    {
     "name": "stdout",
     "output_type": "stream",
     "text": [
      "Model: \"sequential_2\"\n",
      "_________________________________________________________________\n",
      " Layer (type)                Output Shape              Param #   \n",
      "=================================================================\n",
      " dense_6 (Dense)             (None, 5)                 390       \n",
      "                                                                 \n",
      " dense_7 (Dense)             (None, 3)                 18        \n",
      "                                                                 \n",
      " dense_8 (Dense)             (None, 1)                 4         \n",
      "                                                                 \n",
      "=================================================================\n",
      "Total params: 412 (1.61 KB)\n",
      "Trainable params: 412 (1.61 KB)\n",
      "Non-trainable params: 0 (0.00 Byte)\n",
      "_________________________________________________________________\n"
     ]
    }
   ],
   "source": [
    "# Define the model - deep neural net, i.e., the number of input features and hidden nodes for each layer.\n",
    "model = tf.keras.models.Sequential()\n",
    "\n",
    "# First hidden layer\n",
    "model.add(tf.keras.layers.Dense(units=5, activation=\"tanh\", input_dim=X_train_scaled.shape[1]))\n",
    "\n",
    "# Second hidden layer\n",
    "model.add(tf.keras.layers.Dense(units=3, activation='tanh'))\n",
    "\n",
    "# Output layer\n",
    "model.add(tf.keras.layers.Dense(units=1, activation='sigmoid'))\n",
    "\n",
    "# Check the structure of the model\n",
    "model.summary()"
   ]
  },
  {
   "cell_type": "code",
   "execution_count": 72,
   "id": "711e252a",
   "metadata": {},
   "outputs": [],
   "source": [
    "# Define your neural network model (modify architecture as needed)\n",
    "model = tf.keras.models.Sequential([\n",
    "    tf.keras.layers.Dense(units=64, activation='relu', input_dim=X_train.shape[1]),\n",
    "    tf.keras.layers.Dense(units=32, activation='relu'),\n",
    "    tf.keras.layers.Dense(units=1, activation='sigmoid')\n",
    "])"
   ]
  },
  {
   "cell_type": "code",
   "execution_count": 73,
   "id": "f6b657cb",
   "metadata": {},
   "outputs": [],
   "source": [
    "# Compile the model\n",
    "model.compile(optimizer='adam', loss='binary_crossentropy', metrics=['accuracy'])"
   ]
  },
  {
   "cell_type": "code",
   "execution_count": 74,
   "id": "e24314a3",
   "metadata": {},
   "outputs": [
    {
     "name": "stdout",
     "output_type": "stream",
     "text": [
      "Epoch 1/100\n",
      "428/428 [==============================] - 3s 3ms/step - loss: -16.8674 - accuracy: 0.0000e+00 - val_loss: -76.1040 - val_accuracy: 0.0000e+00\n",
      "Epoch 2/100\n",
      "428/428 [==============================] - 1s 2ms/step - loss: -390.5105 - accuracy: 0.0000e+00 - val_loss: -845.4944 - val_accuracy: 0.0000e+00\n",
      "Epoch 3/100\n",
      "428/428 [==============================] - 1s 2ms/step - loss: -1818.0132 - accuracy: 0.0000e+00 - val_loss: -2881.2781 - val_accuracy: 0.0000e+00\n",
      "Epoch 4/100\n",
      "428/428 [==============================] - 1s 2ms/step - loss: -4768.6558 - accuracy: 0.0000e+00 - val_loss: -6548.4922 - val_accuracy: 0.0000e+00\n",
      "Epoch 5/100\n",
      "428/428 [==============================] - 1s 3ms/step - loss: -9547.1631 - accuracy: 0.0000e+00 - val_loss: -12086.3955 - val_accuracy: 0.0000e+00\n",
      "Epoch 6/100\n",
      "428/428 [==============================] - 1s 3ms/step - loss: -16426.1758 - accuracy: 0.0000e+00 - val_loss: -19723.9609 - val_accuracy: 0.0000e+00\n",
      "Epoch 7/100\n",
      "428/428 [==============================] - 1s 2ms/step - loss: -25514.6992 - accuracy: 0.0000e+00 - val_loss: -29515.2969 - val_accuracy: 0.0000e+00\n",
      "Epoch 8/100\n",
      "428/428 [==============================] - 1s 2ms/step - loss: -36904.0391 - accuracy: 0.0000e+00 - val_loss: -41646.9336 - val_accuracy: 0.0000e+00\n",
      "Epoch 9/100\n",
      "428/428 [==============================] - 1s 2ms/step - loss: -50764.3203 - accuracy: 0.0000e+00 - val_loss: -56193.6211 - val_accuracy: 0.0000e+00\n",
      "Epoch 10/100\n",
      "428/428 [==============================] - 1s 2ms/step - loss: -67225.6797 - accuracy: 0.0000e+00 - val_loss: -73317.8281 - val_accuracy: 0.0000e+00\n",
      "Epoch 11/100\n",
      "428/428 [==============================] - 1s 2ms/step - loss: -86407.1797 - accuracy: 0.0000e+00 - val_loss: -93019.9141 - val_accuracy: 0.0000e+00\n",
      "Epoch 12/100\n",
      "428/428 [==============================] - 1s 3ms/step - loss: -108478.9531 - accuracy: 0.0000e+00 - val_loss: -115585.8828 - val_accuracy: 0.0000e+00\n",
      "Epoch 13/100\n",
      "428/428 [==============================] - 1s 2ms/step - loss: -133526.1562 - accuracy: 0.0000e+00 - val_loss: -141065.7188 - val_accuracy: 0.0000e+00\n",
      "Epoch 14/100\n",
      "428/428 [==============================] - 1s 2ms/step - loss: -161662.4219 - accuracy: 0.0000e+00 - val_loss: -169540.5469 - val_accuracy: 0.0000e+00\n",
      "Epoch 15/100\n",
      "428/428 [==============================] - 1s 3ms/step - loss: -192960.4531 - accuracy: 0.0000e+00 - val_loss: -201101.2500 - val_accuracy: 0.0000e+00\n",
      "Epoch 16/100\n",
      "428/428 [==============================] - 1s 2ms/step - loss: -227662.5938 - accuracy: 0.0000e+00 - val_loss: -235890.9375 - val_accuracy: 0.0000e+00\n",
      "Epoch 17/100\n",
      "428/428 [==============================] - 1s 3ms/step - loss: -265746.7812 - accuracy: 0.0000e+00 - val_loss: -274069.9062 - val_accuracy: 0.0000e+00\n",
      "Epoch 18/100\n",
      "428/428 [==============================] - 1s 2ms/step - loss: -307297.5312 - accuracy: 0.0000e+00 - val_loss: -315628.1562 - val_accuracy: 0.0000e+00\n",
      "Epoch 19/100\n",
      "428/428 [==============================] - 1s 2ms/step - loss: -352482.3125 - accuracy: 0.0000e+00 - val_loss: -360737.4062 - val_accuracy: 0.0000e+00\n",
      "Epoch 20/100\n",
      "428/428 [==============================] - 1s 2ms/step - loss: -401504.9375 - accuracy: 0.0000e+00 - val_loss: -409514.9375 - val_accuracy: 0.0000e+00\n",
      "Epoch 21/100\n",
      "428/428 [==============================] - 1s 3ms/step - loss: -454337.2500 - accuracy: 0.0000e+00 - val_loss: -462083.3750 - val_accuracy: 0.0000e+00\n",
      "Epoch 22/100\n",
      "428/428 [==============================] - 1s 3ms/step - loss: -511240.3750 - accuracy: 0.0000e+00 - val_loss: -518513.4688 - val_accuracy: 0.0000e+00\n",
      "Epoch 23/100\n",
      "428/428 [==============================] - 1s 3ms/step - loss: -572334.6250 - accuracy: 0.0000e+00 - val_loss: -579176.3125 - val_accuracy: 0.0000e+00\n",
      "Epoch 24/100\n",
      "428/428 [==============================] - 1s 2ms/step - loss: -637489.8750 - accuracy: 0.0000e+00 - val_loss: -643667.2500 - val_accuracy: 0.0000e+00\n",
      "Epoch 25/100\n",
      "428/428 [==============================] - 1s 2ms/step - loss: -707155.8750 - accuracy: 0.0000e+00 - val_loss: -712625.6875 - val_accuracy: 0.0000e+00\n",
      "Epoch 26/100\n",
      "428/428 [==============================] - 1s 3ms/step - loss: -781624.9375 - accuracy: 0.0000e+00 - val_loss: -786136.8750 - val_accuracy: 0.0000e+00\n",
      "Epoch 27/100\n",
      "428/428 [==============================] - 1s 2ms/step - loss: -860744.6875 - accuracy: 0.0000e+00 - val_loss: -864144.1250 - val_accuracy: 0.0000e+00\n",
      "Epoch 28/100\n",
      "428/428 [==============================] - 1s 2ms/step - loss: -944764.4375 - accuracy: 0.0000e+00 - val_loss: -946869.0000 - val_accuracy: 0.0000e+00\n",
      "Epoch 29/100\n",
      "428/428 [==============================] - 1s 2ms/step - loss: -1033629.1875 - accuracy: 0.0000e+00 - val_loss: -1034179.9375 - val_accuracy: 0.0000e+00\n",
      "Epoch 30/100\n",
      "428/428 [==============================] - 1s 3ms/step - loss: -1127117.5000 - accuracy: 0.0000e+00 - val_loss: -1126083.6250 - val_accuracy: 0.0000e+00\n",
      "Epoch 31/100\n",
      "428/428 [==============================] - 1s 2ms/step - loss: -1225671.8750 - accuracy: 0.0000e+00 - val_loss: -1222908.1250 - val_accuracy: 0.0000e+00\n",
      "Epoch 32/100\n",
      "428/428 [==============================] - 1s 2ms/step - loss: -1329544.0000 - accuracy: 0.0000e+00 - val_loss: -1325061.3750 - val_accuracy: 0.0000e+00\n",
      "Epoch 33/100\n",
      "428/428 [==============================] - 1s 2ms/step - loss: -1438837.7500 - accuracy: 0.0000e+00 - val_loss: -1432535.5000 - val_accuracy: 0.0000e+00\n",
      "Epoch 34/100\n",
      "428/428 [==============================] - 1s 2ms/step - loss: -1553553.0000 - accuracy: 0.0000e+00 - val_loss: -1544978.3750 - val_accuracy: 0.0000e+00\n",
      "Epoch 35/100\n",
      "428/428 [==============================] - 1s 2ms/step - loss: -1673951.7500 - accuracy: 0.0000e+00 - val_loss: -1662887.1250 - val_accuracy: 0.0000e+00\n",
      "Epoch 36/100\n",
      "428/428 [==============================] - 1s 2ms/step - loss: -1800224.0000 - accuracy: 0.0000e+00 - val_loss: -1786535.1250 - val_accuracy: 0.0000e+00\n",
      "Epoch 37/100\n",
      "428/428 [==============================] - 1s 2ms/step - loss: -1932176.0000 - accuracy: 0.0000e+00 - val_loss: -1915664.1250 - val_accuracy: 0.0000e+00\n",
      "Epoch 38/100\n",
      "428/428 [==============================] - 1s 2ms/step - loss: -2070012.8750 - accuracy: 0.0000e+00 - val_loss: -2050286.2500 - val_accuracy: 0.0000e+00\n",
      "Epoch 39/100\n",
      "428/428 [==============================] - 1s 2ms/step - loss: -2213862.7500 - accuracy: 0.0000e+00 - val_loss: -2191182.0000 - val_accuracy: 0.0000e+00\n",
      "Epoch 40/100\n",
      "428/428 [==============================] - 1s 2ms/step - loss: -2364241.5000 - accuracy: 0.0000e+00 - val_loss: -2337998.0000 - val_accuracy: 0.0000e+00\n",
      "Epoch 41/100\n",
      "428/428 [==============================] - 1s 2ms/step - loss: -2520921.0000 - accuracy: 0.0000e+00 - val_loss: -2491287.0000 - val_accuracy: 0.0000e+00\n",
      "Epoch 42/100\n",
      "428/428 [==============================] - 1s 2ms/step - loss: -2684134.5000 - accuracy: 0.0000e+00 - val_loss: -2650395.0000 - val_accuracy: 0.0000e+00\n",
      "Epoch 43/100\n",
      "428/428 [==============================] - 1s 2ms/step - loss: -2853906.7500 - accuracy: 0.0000e+00 - val_loss: -2815614.5000 - val_accuracy: 0.0000e+00\n",
      "Epoch 44/100\n",
      "428/428 [==============================] - 1s 3ms/step - loss: -3029897.2500 - accuracy: 0.0000e+00 - val_loss: -2987610.7500 - val_accuracy: 0.0000e+00\n",
      "Epoch 45/100\n",
      "428/428 [==============================] - 2s 4ms/step - loss: -3212949.7500 - accuracy: 0.0000e+00 - val_loss: -3166106.2500 - val_accuracy: 0.0000e+00\n",
      "Epoch 46/100\n",
      "428/428 [==============================] - 2s 4ms/step - loss: -3402731.0000 - accuracy: 0.0000e+00 - val_loss: -3350911.5000 - val_accuracy: 0.0000e+00\n",
      "Epoch 47/100\n",
      "428/428 [==============================] - 2s 5ms/step - loss: -3600034.7500 - accuracy: 0.0000e+00 - val_loss: -3543289.7500 - val_accuracy: 0.0000e+00\n",
      "Epoch 48/100\n",
      "428/428 [==============================] - 1s 3ms/step - loss: -3804372.2500 - accuracy: 0.0000e+00 - val_loss: -3741962.5000 - val_accuracy: 0.0000e+00\n",
      "Epoch 49/100\n",
      "428/428 [==============================] - 1s 2ms/step - loss: -4015709.0000 - accuracy: 0.0000e+00 - val_loss: -3947771.2500 - val_accuracy: 0.0000e+00\n",
      "Epoch 50/100\n",
      "428/428 [==============================] - 1s 2ms/step - loss: -4234972.0000 - accuracy: 0.0000e+00 - val_loss: -4161258.7500 - val_accuracy: 0.0000e+00\n"
     ]
    },
    {
     "name": "stdout",
     "output_type": "stream",
     "text": [
      "Epoch 51/100\n",
      "428/428 [==============================] - 1s 2ms/step - loss: -4461550.0000 - accuracy: 0.0000e+00 - val_loss: -4381214.5000 - val_accuracy: 0.0000e+00\n",
      "Epoch 52/100\n",
      "428/428 [==============================] - 1s 2ms/step - loss: -4695287.0000 - accuracy: 0.0000e+00 - val_loss: -4608789.0000 - val_accuracy: 0.0000e+00\n",
      "Epoch 53/100\n",
      "428/428 [==============================] - 1s 2ms/step - loss: -4937107.0000 - accuracy: 0.0000e+00 - val_loss: -4843904.0000 - val_accuracy: 0.0000e+00\n",
      "Epoch 54/100\n",
      "428/428 [==============================] - 1s 2ms/step - loss: -5186307.5000 - accuracy: 0.0000e+00 - val_loss: -5085820.5000 - val_accuracy: 0.0000e+00\n",
      "Epoch 55/100\n",
      "428/428 [==============================] - 1s 2ms/step - loss: -5444095.0000 - accuracy: 0.0000e+00 - val_loss: -5335710.5000 - val_accuracy: 0.0000e+00\n",
      "Epoch 56/100\n",
      "428/428 [==============================] - 1s 2ms/step - loss: -5710052.0000 - accuracy: 0.0000e+00 - val_loss: -5594135.5000 - val_accuracy: 0.0000e+00\n",
      "Epoch 57/100\n",
      "428/428 [==============================] - 1s 2ms/step - loss: -5983115.5000 - accuracy: 0.0000e+00 - val_loss: -5859537.0000 - val_accuracy: 0.0000e+00\n",
      "Epoch 58/100\n",
      "428/428 [==============================] - 1s 3ms/step - loss: -6264193.0000 - accuracy: 0.0000e+00 - val_loss: -6132633.0000 - val_accuracy: 0.0000e+00\n",
      "Epoch 59/100\n",
      "428/428 [==============================] - 1s 3ms/step - loss: -6554151.0000 - accuracy: 0.0000e+00 - val_loss: -6414339.5000 - val_accuracy: 0.0000e+00\n",
      "Epoch 60/100\n",
      "428/428 [==============================] - 1s 3ms/step - loss: -6853651.0000 - accuracy: 0.0000e+00 - val_loss: -6704743.0000 - val_accuracy: 0.0000e+00\n",
      "Epoch 61/100\n",
      "428/428 [==============================] - 1s 3ms/step - loss: -7161602.0000 - accuracy: 0.0000e+00 - val_loss: -7003223.0000 - val_accuracy: 0.0000e+00\n",
      "Epoch 62/100\n",
      "428/428 [==============================] - 1s 3ms/step - loss: -7477748.5000 - accuracy: 0.0000e+00 - val_loss: -7310785.0000 - val_accuracy: 0.0000e+00\n",
      "Epoch 63/100\n",
      "428/428 [==============================] - 1s 3ms/step - loss: -7802657.0000 - accuracy: 0.0000e+00 - val_loss: -7624856.0000 - val_accuracy: 0.0000e+00\n",
      "Epoch 64/100\n",
      "428/428 [==============================] - 1s 3ms/step - loss: -8136918.0000 - accuracy: 0.0000e+00 - val_loss: -7949428.0000 - val_accuracy: 0.0000e+00\n",
      "Epoch 65/100\n",
      "428/428 [==============================] - 1s 3ms/step - loss: -8480621.0000 - accuracy: 0.0000e+00 - val_loss: -8283053.0000 - val_accuracy: 0.0000e+00\n",
      "Epoch 66/100\n",
      "428/428 [==============================] - 1s 3ms/step - loss: -8832631.0000 - accuracy: 0.0000e+00 - val_loss: -8624169.0000 - val_accuracy: 0.0000e+00\n",
      "Epoch 67/100\n",
      "428/428 [==============================] - 1s 3ms/step - loss: -9193349.0000 - accuracy: 0.0000e+00 - val_loss: -8974017.0000 - val_accuracy: 0.0000e+00\n",
      "Epoch 68/100\n",
      "428/428 [==============================] - 1s 2ms/step - loss: -9563900.0000 - accuracy: 0.0000e+00 - val_loss: -9334045.0000 - val_accuracy: 0.0000e+00\n",
      "Epoch 69/100\n",
      "428/428 [==============================] - 1s 3ms/step - loss: -9945297.0000 - accuracy: 0.0000e+00 - val_loss: -9703162.0000 - val_accuracy: 0.0000e+00\n",
      "Epoch 70/100\n",
      "428/428 [==============================] - 1s 2ms/step - loss: -10334478.0000 - accuracy: 0.0000e+00 - val_loss: -10080410.0000 - val_accuracy: 0.0000e+00\n",
      "Epoch 71/100\n",
      "428/428 [==============================] - 1s 3ms/step - loss: -10733483.0000 - accuracy: 0.0000e+00 - val_loss: -10466541.0000 - val_accuracy: 0.0000e+00\n",
      "Epoch 72/100\n",
      "428/428 [==============================] - 1s 3ms/step - loss: -11142848.0000 - accuracy: 0.0000e+00 - val_loss: -10864510.0000 - val_accuracy: 0.0000e+00\n",
      "Epoch 73/100\n",
      "428/428 [==============================] - 1s 3ms/step - loss: -11563676.0000 - accuracy: 0.0000e+00 - val_loss: -11271823.0000 - val_accuracy: 0.0000e+00\n",
      "Epoch 74/100\n",
      "428/428 [==============================] - 2s 4ms/step - loss: -11993892.0000 - accuracy: 0.0000e+00 - val_loss: -11687984.0000 - val_accuracy: 0.0000e+00\n",
      "Epoch 75/100\n",
      "428/428 [==============================] - 1s 2ms/step - loss: -12434746.0000 - accuracy: 0.0000e+00 - val_loss: -12115060.0000 - val_accuracy: 0.0000e+00\n",
      "Epoch 76/100\n",
      "428/428 [==============================] - 2s 4ms/step - loss: -12885670.0000 - accuracy: 0.0000e+00 - val_loss: -12550922.0000 - val_accuracy: 0.0000e+00\n",
      "Epoch 77/100\n",
      "428/428 [==============================] - 1s 3ms/step - loss: -13345285.0000 - accuracy: 0.0000e+00 - val_loss: -12995964.0000 - val_accuracy: 0.0000e+00\n",
      "Epoch 78/100\n",
      "428/428 [==============================] - 1s 3ms/step - loss: -13815438.0000 - accuracy: 0.0000e+00 - val_loss: -13451612.0000 - val_accuracy: 0.0000e+00\n",
      "Epoch 79/100\n",
      "428/428 [==============================] - 1s 3ms/step - loss: -14297570.0000 - accuracy: 0.0000e+00 - val_loss: -13917917.0000 - val_accuracy: 0.0000e+00\n",
      "Epoch 80/100\n",
      "428/428 [==============================] - 2s 4ms/step - loss: -14790951.0000 - accuracy: 0.0000e+00 - val_loss: -14394858.0000 - val_accuracy: 0.0000e+00\n",
      "Epoch 81/100\n",
      "428/428 [==============================] - 2s 4ms/step - loss: -15295026.0000 - accuracy: 0.0000e+00 - val_loss: -14883849.0000 - val_accuracy: 0.0000e+00\n",
      "Epoch 82/100\n",
      "428/428 [==============================] - 2s 4ms/step - loss: -15810060.0000 - accuracy: 0.0000e+00 - val_loss: -15381680.0000 - val_accuracy: 0.0000e+00\n",
      "Epoch 83/100\n",
      "428/428 [==============================] - 1s 3ms/step - loss: -16335651.0000 - accuracy: 0.0000e+00 - val_loss: -15889287.0000 - val_accuracy: 0.0000e+00\n",
      "Epoch 84/100\n",
      "428/428 [==============================] - 1s 3ms/step - loss: -16873044.0000 - accuracy: 0.0000e+00 - val_loss: -16409643.0000 - val_accuracy: 0.0000e+00\n",
      "Epoch 85/100\n",
      "428/428 [==============================] - 1s 3ms/step - loss: -17421980.0000 - accuracy: 0.0000e+00 - val_loss: -16940736.0000 - val_accuracy: 0.0000e+00\n",
      "Epoch 86/100\n",
      "428/428 [==============================] - 1s 2ms/step - loss: -17982312.0000 - accuracy: 0.0000e+00 - val_loss: -17481846.0000 - val_accuracy: 0.0000e+00\n",
      "Epoch 87/100\n",
      "428/428 [==============================] - 1s 2ms/step - loss: -18554574.0000 - accuracy: 0.0000e+00 - val_loss: -18035376.0000 - val_accuracy: 0.0000e+00\n",
      "Epoch 88/100\n",
      "428/428 [==============================] - 1s 2ms/step - loss: -19138530.0000 - accuracy: 0.0000e+00 - val_loss: -18600536.0000 - val_accuracy: 0.0000e+00\n",
      "Epoch 89/100\n",
      "428/428 [==============================] - 1s 2ms/step - loss: -19734732.0000 - accuracy: 0.0000e+00 - val_loss: -19176326.0000 - val_accuracy: 0.0000e+00\n",
      "Epoch 90/100\n",
      "428/428 [==============================] - 1s 2ms/step - loss: -20342034.0000 - accuracy: 0.0000e+00 - val_loss: -19762624.0000 - val_accuracy: 0.0000e+00\n",
      "Epoch 91/100\n",
      "428/428 [==============================] - 1s 2ms/step - loss: -20961704.0000 - accuracy: 0.0000e+00 - val_loss: -20362484.0000 - val_accuracy: 0.0000e+00\n",
      "Epoch 92/100\n",
      "428/428 [==============================] - 1s 2ms/step - loss: -21594366.0000 - accuracy: 0.0000e+00 - val_loss: -20971718.0000 - val_accuracy: 0.0000e+00\n",
      "Epoch 93/100\n",
      "428/428 [==============================] - 2s 4ms/step - loss: -22238692.0000 - accuracy: 0.0000e+00 - val_loss: -21595558.0000 - val_accuracy: 0.0000e+00\n",
      "Epoch 94/100\n",
      "428/428 [==============================] - 1s 3ms/step - loss: -22894394.0000 - accuracy: 0.0000e+00 - val_loss: -22227902.0000 - val_accuracy: 0.0000e+00\n",
      "Epoch 95/100\n",
      "428/428 [==============================] - 1s 3ms/step - loss: -23562324.0000 - accuracy: 0.0000e+00 - val_loss: -22874218.0000 - val_accuracy: 0.0000e+00\n",
      "Epoch 96/100\n",
      "428/428 [==============================] - 1s 3ms/step - loss: -24244220.0000 - accuracy: 0.0000e+00 - val_loss: -23533566.0000 - val_accuracy: 0.0000e+00\n",
      "Epoch 97/100\n",
      "428/428 [==============================] - 1s 3ms/step - loss: -24938956.0000 - accuracy: 0.0000e+00 - val_loss: -24205472.0000 - val_accuracy: 0.0000e+00\n",
      "Epoch 98/100\n",
      "428/428 [==============================] - 2s 4ms/step - loss: -25646214.0000 - accuracy: 0.0000e+00 - val_loss: -24888280.0000 - val_accuracy: 0.0000e+00\n",
      "Epoch 99/100\n",
      "428/428 [==============================] - 1s 3ms/step - loss: -26367496.0000 - accuracy: 0.0000e+00 - val_loss: -25585914.0000 - val_accuracy: 0.0000e+00\n"
     ]
    },
    {
     "name": "stdout",
     "output_type": "stream",
     "text": [
      "Epoch 100/100\n",
      "428/428 [==============================] - 1s 3ms/step - loss: -27102456.0000 - accuracy: 0.0000e+00 - val_loss: -26293860.0000 - val_accuracy: 0.0000e+00\n"
     ]
    }
   ],
   "source": [
    "# Train the model\n",
    "fit_model = model.fit(X_train_scaled, y_train, epochs=100, validation_data=(X_test_scaled, y_test))"
   ]
  },
  {
   "cell_type": "code",
   "execution_count": 75,
   "id": "9536dcfe",
   "metadata": {},
   "outputs": [
    {
     "name": "stdout",
     "output_type": "stream",
     "text": [
      "107/107 [==============================] - 0s 3ms/step - loss: -26293860.0000 - accuracy: 0.0000e+00\n"
     ]
    },
    {
     "data": {
      "text/plain": [
       "[-26293860.0, 0.0]"
      ]
     },
     "execution_count": 75,
     "metadata": {},
     "output_type": "execute_result"
    }
   ],
   "source": [
    "# Evaluate the model using the test data\n",
    "model.evaluate(X_test_scaled, y_test)"
   ]
  },
  {
   "cell_type": "code",
   "execution_count": 88,
   "id": "6cd938ef",
   "metadata": {},
   "outputs": [],
   "source": [
    "#Negative result"
   ]
  },
  {
   "cell_type": "markdown",
   "id": "d46fe747",
   "metadata": {},
   "source": [
    "## SECOND TRIAL"
   ]
  },
  {
   "cell_type": "code",
   "execution_count": 80,
   "id": "4966b8e0",
   "metadata": {},
   "outputs": [],
   "source": [
    "# Load the dataset\n",
    "HIV_df = pd.read_csv(\"DOHMH_HIV_AIDS_Annual_Report (1).csv\")"
   ]
  },
  {
   "cell_type": "code",
   "execution_count": 81,
   "id": "d740b951",
   "metadata": {},
   "outputs": [],
   "source": [
    "# Identify and handle malformed strings\n",
    "for column in ['Borough', 'UHF', 'Gender', 'Age', 'Race']:\n",
    "    try:\n",
    "        # Convert to numeric, replacing 'All' with NaN\n",
    "        HIV_df[column] = pd.to_numeric(HIV_df[column], errors='coerce')\n",
    "    except ValueError as e:\n",
    "        print(f\"Error converting column '{column}': {e}\")"
   ]
  },
  {
   "cell_type": "code",
   "execution_count": 82,
   "id": "82502189",
   "metadata": {},
   "outputs": [],
   "source": [
    "# Handle missing values\n",
    "HIV_df.fillna(HIV_df.mean(), inplace=True)\n"
   ]
  },
  {
   "cell_type": "code",
   "execution_count": 83,
   "id": "f8807a1e",
   "metadata": {},
   "outputs": [],
   "source": [
    "# Separate features (X) and target variable (y)\n",
    "X = HIV_df.drop('HIV diagnoses', axis=1)\n",
    "y = HIV_df['HIV diagnoses']\n",
    "\n",
    "# Split the dataset into training and testing sets\n",
    "X_train, X_test, y_train, y_test = train_test_split(X, y, test_size=0.2, random_state=42)\n"
   ]
  },
  {
   "cell_type": "code",
   "execution_count": 84,
   "id": "6696e34e",
   "metadata": {},
   "outputs": [
    {
     "name": "stderr",
     "output_type": "stream",
     "text": [
      "C:\\Users\\wnaiy\\anaconda3\\envs\\ml\\lib\\site-packages\\sklearn\\utils\\extmath.py:1051: RuntimeWarning: invalid value encountered in divide\n",
      "  updated_mean = (last_sum + new_sum) / updated_sample_count\n",
      "C:\\Users\\wnaiy\\anaconda3\\envs\\ml\\lib\\site-packages\\sklearn\\utils\\extmath.py:1056: RuntimeWarning: invalid value encountered in divide\n",
      "  T = new_sum / new_sample_count\n",
      "C:\\Users\\wnaiy\\anaconda3\\envs\\ml\\lib\\site-packages\\sklearn\\utils\\extmath.py:1076: RuntimeWarning: invalid value encountered in divide\n",
      "  new_unnormalized_variance -= correction**2 / new_sample_count\n"
     ]
    }
   ],
   "source": [
    "# Scale the numerical features\n",
    "scaler = StandardScaler()\n",
    "X_train_scaled = scaler.fit_transform(X_train)\n",
    "X_test_scaled = scaler.transform(X_test)\n",
    "\n",
    "# Define the neural network model\n",
    "model = tf.keras.models.Sequential([\n",
    "    tf.keras.layers.Dense(units=64, activation='relu', input_dim=X_train.shape[1]),\n",
    "    tf.keras.layers.Dense(units=32, activation='relu'),\n",
    "    tf.keras.layers.Dense(units=1, activation='sigmoid')\n",
    "])"
   ]
  },
  {
   "cell_type": "code",
   "execution_count": 85,
   "id": "e2d18725",
   "metadata": {
    "scrolled": true
   },
   "outputs": [
    {
     "name": "stdout",
     "output_type": "stream",
     "text": [
      "Epoch 1/50\n",
      "799/799 [==============================] - 5s 4ms/step - loss: nan - accuracy: 0.4603 - val_loss: nan - val_accuracy: 0.4634\n",
      "Epoch 2/50\n",
      "799/799 [==============================] - 3s 4ms/step - loss: nan - accuracy: 0.4603 - val_loss: nan - val_accuracy: 0.4634\n",
      "Epoch 3/50\n",
      "799/799 [==============================] - 3s 4ms/step - loss: nan - accuracy: 0.4603 - val_loss: nan - val_accuracy: 0.4634\n",
      "Epoch 4/50\n",
      "799/799 [==============================] - 3s 3ms/step - loss: nan - accuracy: 0.4603 - val_loss: nan - val_accuracy: 0.4634\n",
      "Epoch 5/50\n",
      "799/799 [==============================] - 3s 3ms/step - loss: nan - accuracy: 0.4603 - val_loss: nan - val_accuracy: 0.4634\n",
      "Epoch 6/50\n",
      "799/799 [==============================] - 3s 4ms/step - loss: nan - accuracy: 0.4603 - val_loss: nan - val_accuracy: 0.4634\n",
      "Epoch 7/50\n",
      "799/799 [==============================] - 3s 4ms/step - loss: nan - accuracy: 0.4603 - val_loss: nan - val_accuracy: 0.4634\n",
      "Epoch 8/50\n",
      "799/799 [==============================] - 2s 3ms/step - loss: nan - accuracy: 0.4603 - val_loss: nan - val_accuracy: 0.4634\n",
      "Epoch 9/50\n",
      "799/799 [==============================] - 2s 3ms/step - loss: nan - accuracy: 0.4603 - val_loss: nan - val_accuracy: 0.4634\n",
      "Epoch 10/50\n",
      "799/799 [==============================] - 2s 3ms/step - loss: nan - accuracy: 0.4603 - val_loss: nan - val_accuracy: 0.4634\n",
      "Epoch 11/50\n",
      "799/799 [==============================] - 2s 2ms/step - loss: nan - accuracy: 0.4603 - val_loss: nan - val_accuracy: 0.4634\n",
      "Epoch 12/50\n",
      "799/799 [==============================] - 2s 2ms/step - loss: nan - accuracy: 0.4603 - val_loss: nan - val_accuracy: 0.4634\n",
      "Epoch 13/50\n",
      "799/799 [==============================] - 2s 3ms/step - loss: nan - accuracy: 0.4603 - val_loss: nan - val_accuracy: 0.4634\n",
      "Epoch 14/50\n",
      "799/799 [==============================] - 3s 4ms/step - loss: nan - accuracy: 0.4603 - val_loss: nan - val_accuracy: 0.4634\n",
      "Epoch 15/50\n",
      "799/799 [==============================] - 2s 3ms/step - loss: nan - accuracy: 0.4603 - val_loss: nan - val_accuracy: 0.4634\n",
      "Epoch 16/50\n",
      "799/799 [==============================] - 2s 2ms/step - loss: nan - accuracy: 0.4603 - val_loss: nan - val_accuracy: 0.4634\n",
      "Epoch 17/50\n",
      "799/799 [==============================] - 2s 3ms/step - loss: nan - accuracy: 0.4603 - val_loss: nan - val_accuracy: 0.4634\n",
      "Epoch 18/50\n",
      "799/799 [==============================] - 2s 2ms/step - loss: nan - accuracy: 0.4603 - val_loss: nan - val_accuracy: 0.4634\n",
      "Epoch 19/50\n",
      "799/799 [==============================] - 2s 2ms/step - loss: nan - accuracy: 0.4603 - val_loss: nan - val_accuracy: 0.4634\n",
      "Epoch 20/50\n",
      "799/799 [==============================] - 2s 3ms/step - loss: nan - accuracy: 0.4603 - val_loss: nan - val_accuracy: 0.4634\n",
      "Epoch 21/50\n",
      "799/799 [==============================] - 2s 2ms/step - loss: nan - accuracy: 0.4603 - val_loss: nan - val_accuracy: 0.4634\n",
      "Epoch 22/50\n",
      "799/799 [==============================] - 2s 2ms/step - loss: nan - accuracy: 0.4603 - val_loss: nan - val_accuracy: 0.4634\n",
      "Epoch 23/50\n",
      "799/799 [==============================] - 2s 3ms/step - loss: nan - accuracy: 0.4603 - val_loss: nan - val_accuracy: 0.4634\n",
      "Epoch 24/50\n",
      "799/799 [==============================] - 2s 2ms/step - loss: nan - accuracy: 0.4603 - val_loss: nan - val_accuracy: 0.4634\n",
      "Epoch 25/50\n",
      "799/799 [==============================] - 2s 2ms/step - loss: nan - accuracy: 0.4603 - val_loss: nan - val_accuracy: 0.4634\n",
      "Epoch 26/50\n",
      "799/799 [==============================] - 2s 2ms/step - loss: nan - accuracy: 0.4603 - val_loss: nan - val_accuracy: 0.4634\n",
      "Epoch 27/50\n",
      "799/799 [==============================] - 2s 3ms/step - loss: nan - accuracy: 0.4603 - val_loss: nan - val_accuracy: 0.4634\n",
      "Epoch 28/50\n",
      "799/799 [==============================] - 3s 4ms/step - loss: nan - accuracy: 0.4603 - val_loss: nan - val_accuracy: 0.4634\n",
      "Epoch 29/50\n",
      "799/799 [==============================] - 3s 4ms/step - loss: nan - accuracy: 0.4603 - val_loss: nan - val_accuracy: 0.4634\n",
      "Epoch 30/50\n",
      "799/799 [==============================] - 4s 5ms/step - loss: nan - accuracy: 0.4603 - val_loss: nan - val_accuracy: 0.4634\n",
      "Epoch 31/50\n",
      "799/799 [==============================] - 3s 4ms/step - loss: nan - accuracy: 0.4603 - val_loss: nan - val_accuracy: 0.4634\n",
      "Epoch 32/50\n",
      "799/799 [==============================] - 3s 3ms/step - loss: nan - accuracy: 0.4603 - val_loss: nan - val_accuracy: 0.4634\n",
      "Epoch 33/50\n",
      "799/799 [==============================] - 2s 3ms/step - loss: nan - accuracy: 0.4603 - val_loss: nan - val_accuracy: 0.4634\n",
      "Epoch 34/50\n",
      "799/799 [==============================] - 2s 2ms/step - loss: nan - accuracy: 0.4603 - val_loss: nan - val_accuracy: 0.4634\n",
      "Epoch 35/50\n",
      "799/799 [==============================] - 2s 2ms/step - loss: nan - accuracy: 0.4603 - val_loss: nan - val_accuracy: 0.4634\n",
      "Epoch 36/50\n",
      "799/799 [==============================] - 2s 2ms/step - loss: nan - accuracy: 0.4603 - val_loss: nan - val_accuracy: 0.4634\n",
      "Epoch 37/50\n",
      "799/799 [==============================] - 2s 2ms/step - loss: nan - accuracy: 0.4603 - val_loss: nan - val_accuracy: 0.4634\n",
      "Epoch 38/50\n",
      "799/799 [==============================] - 2s 2ms/step - loss: nan - accuracy: 0.4603 - val_loss: nan - val_accuracy: 0.4634\n",
      "Epoch 39/50\n",
      "799/799 [==============================] - 2s 2ms/step - loss: nan - accuracy: 0.4603 - val_loss: nan - val_accuracy: 0.4634\n",
      "Epoch 40/50\n",
      "799/799 [==============================] - 2s 3ms/step - loss: nan - accuracy: 0.4603 - val_loss: nan - val_accuracy: 0.4634\n",
      "Epoch 41/50\n",
      "799/799 [==============================] - 2s 2ms/step - loss: nan - accuracy: 0.4603 - val_loss: nan - val_accuracy: 0.4634\n",
      "Epoch 42/50\n",
      "799/799 [==============================] - 2s 2ms/step - loss: nan - accuracy: 0.4603 - val_loss: nan - val_accuracy: 0.4634\n",
      "Epoch 43/50\n",
      "799/799 [==============================] - 3s 3ms/step - loss: nan - accuracy: 0.4603 - val_loss: nan - val_accuracy: 0.4634\n",
      "Epoch 44/50\n",
      "799/799 [==============================] - 2s 3ms/step - loss: nan - accuracy: 0.4603 - val_loss: nan - val_accuracy: 0.4634\n",
      "Epoch 45/50\n",
      "799/799 [==============================] - 2s 2ms/step - loss: nan - accuracy: 0.4603 - val_loss: nan - val_accuracy: 0.4634\n",
      "Epoch 46/50\n",
      "799/799 [==============================] - 2s 2ms/step - loss: nan - accuracy: 0.4603 - val_loss: nan - val_accuracy: 0.4634\n",
      "Epoch 47/50\n",
      "799/799 [==============================] - 2s 3ms/step - loss: nan - accuracy: 0.4603 - val_loss: nan - val_accuracy: 0.4634\n",
      "Epoch 48/50\n",
      "799/799 [==============================] - 2s 2ms/step - loss: nan - accuracy: 0.4603 - val_loss: nan - val_accuracy: 0.4634\n",
      "Epoch 49/50\n",
      "799/799 [==============================] - 2s 2ms/step - loss: nan - accuracy: 0.4603 - val_loss: nan - val_accuracy: 0.4634\n",
      "Epoch 50/50\n",
      "799/799 [==============================] - 2s 2ms/step - loss: nan - accuracy: 0.4603 - val_loss: nan - val_accuracy: 0.4634\n",
      "200/200 [==============================] - 0s 2ms/step - loss: nan - accuracy: 0.4634\n"
     ]
    },
    {
     "data": {
      "text/plain": [
       "[nan, 0.46342992782592773]"
      ]
     },
     "execution_count": 85,
     "metadata": {},
     "output_type": "execute_result"
    }
   ],
   "source": [
    "# Compile the model\n",
    "model.compile(optimizer='adam', loss='mean_squared_error', metrics=['accuracy'])\n",
    "\n",
    "# Train the model\n",
    "fit_model = model.fit(X_train_scaled, y_train, epochs=50, validation_data=(X_test_scaled, y_test))\n",
    "\n",
    "# Evaluate the model on the test set\n",
    "model.evaluate(X_test_scaled, y_test)\n"
   ]
  },
  {
   "cell_type": "code",
   "execution_count": 87,
   "id": "f3341ea4",
   "metadata": {},
   "outputs": [],
   "source": [
    "#45% result"
   ]
  },
  {
   "cell_type": "code",
   "execution_count": null,
   "id": "20c27f8f",
   "metadata": {},
   "outputs": [],
   "source": []
  }
 ],
 "metadata": {
  "kernelspec": {
   "display_name": "Python 3 (ipykernel)",
   "language": "python",
   "name": "python3"
  },
  "language_info": {
   "codemirror_mode": {
    "name": "ipython",
    "version": 3
   },
   "file_extension": ".py",
   "mimetype": "text/x-python",
   "name": "python",
   "nbconvert_exporter": "python",
   "pygments_lexer": "ipython3",
   "version": "3.8.18"
  }
 },
 "nbformat": 4,
 "nbformat_minor": 5
}
